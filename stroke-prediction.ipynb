{
 "cells": [
  {
   "cell_type": "markdown",
   "metadata": {
    "papermill": {
     "duration": 0.024378,
     "end_time": "2021-03-08T16:08:02.882426",
     "exception": false,
     "start_time": "2021-03-08T16:08:02.858048",
     "status": "completed"
    },
    "tags": []
   },
   "source": [
    "# 1. Context:\n",
    "The American Stroke Association [reports](https://www.stroke.org/en/about-stroke), \"stroke is the no. 5 cause of death and a leading cause of disability in the United States\". In addition, according to [the Center for Disease Control and Prevention (CDC)](https://www.cdc.gov/stroke/conditions.htm), the factors that lead to an increased chance of stroke include high blood pressure, high cholesterol, high blood glucose level, etc. These conditions are further enhanced by an unhealthy diet, physical inactivity, and alcohol and tobacco use (including smoking). \n",
    "\n",
    "The available dataset can be used to predict whether a patient is likely to get a stroke based on other features and behaviors like age, gender, smoking status, blood sugar level, etc.\n",
    "\n",
    "### Attribute Information\n",
    "\n",
    "1) id: unique identifier\n",
    "\n",
    "2) gender: \"Male\", \"Female\" or \"Other\"\n",
    "\n",
    "3) age: age of the patient\n",
    "\n",
    "4) hypertension: 0 if the patient doesn't have hypertension, 1 if the patient has hypertension\n",
    "\n",
    "5) heart_disease: 0 if the patient doesn't have any heart diseases, 1 if the patient has a heart disease\n",
    "\n",
    "6) ever_married: \"No\" or \"Yes\"\n",
    "\n",
    "7) work_type: \"children\", \"Govt_jov\", \"Never_worked\", \"Private\" or \"Self-employed\"\n",
    "\n",
    "8) Residence_type: \"Rural\" or \"Urban\"\n",
    "\n",
    "9) avg_glucose_level: average glucose level in blood\n",
    "\n",
    "10) bmi: body mass index\n",
    "\n",
    "11) smoking_status: \"formerly smoked\", \"never smoked\", \"smokes\" or \"Unknown\"*\n",
    "\n",
    "12) stroke: 1 if the patient had a stroke or 0 if not\n",
    "\n",
    "**Note:** _\"Unknown\" in smoking_status means that the information is unavailable for this patient._\n",
    "\n",
    "\n",
    "# 2. Importing the necessary modules:"
   ]
  },
  {
   "cell_type": "code",
   "execution_count": 1,
   "metadata": {
    "_cell_guid": "b1076dfc-b9ad-4769-8c92-a6c4dae69d19",
    "_uuid": "8f2839f25d086af736a60e9eeb907d3b93b6e0e5",
    "execution": {
     "iopub.execute_input": "2021-03-08T16:08:02.935374Z",
     "iopub.status.busy": "2021-03-08T16:08:02.934528Z",
     "iopub.status.idle": "2021-03-08T16:08:04.558025Z",
     "shell.execute_reply": "2021-03-08T16:08:04.557362Z"
    },
    "papermill": {
     "duration": 1.653595,
     "end_time": "2021-03-08T16:08:04.558240",
     "exception": false,
     "start_time": "2021-03-08T16:08:02.904645",
     "status": "completed"
    },
    "tags": []
   },
   "outputs": [
    {
     "ename": "ModuleNotFoundError",
     "evalue": "No module named 'imblearn'",
     "output_type": "error",
     "traceback": [
      "\u001b[1;31m---------------------------------------------------------------------------\u001b[0m",
      "\u001b[1;31mModuleNotFoundError\u001b[0m                       Traceback (most recent call last)",
      "\u001b[1;32m<ipython-input-1-fe0684e97439>\u001b[0m in \u001b[0;36m<module>\u001b[1;34m\u001b[0m\n\u001b[0;32m      9\u001b[0m \u001b[1;32mfrom\u001b[0m \u001b[0msklearn\u001b[0m\u001b[1;33m.\u001b[0m\u001b[0mtree\u001b[0m \u001b[1;32mimport\u001b[0m \u001b[0mDecisionTreeClassifier\u001b[0m\u001b[1;33m\u001b[0m\u001b[1;33m\u001b[0m\u001b[0m\n\u001b[0;32m     10\u001b[0m \u001b[1;32mfrom\u001b[0m \u001b[0msklearn\u001b[0m\u001b[1;33m.\u001b[0m\u001b[0mensemble\u001b[0m \u001b[1;32mimport\u001b[0m \u001b[0mRandomForestClassifier\u001b[0m\u001b[1;33m\u001b[0m\u001b[1;33m\u001b[0m\u001b[0m\n\u001b[1;32m---> 11\u001b[1;33m \u001b[1;32mfrom\u001b[0m \u001b[0mimblearn\u001b[0m\u001b[1;33m.\u001b[0m\u001b[0munder_sampling\u001b[0m \u001b[1;32mimport\u001b[0m \u001b[0mRandomUnderSampler\u001b[0m\u001b[1;33m\u001b[0m\u001b[1;33m\u001b[0m\u001b[0m\n\u001b[0m\u001b[0;32m     12\u001b[0m \u001b[1;32mfrom\u001b[0m \u001b[0mimblearn\u001b[0m\u001b[1;33m.\u001b[0m\u001b[0mover_sampling\u001b[0m \u001b[1;32mimport\u001b[0m \u001b[0mRandomOverSampler\u001b[0m\u001b[1;33m\u001b[0m\u001b[1;33m\u001b[0m\u001b[0m\n\u001b[0;32m     13\u001b[0m \u001b[1;32mfrom\u001b[0m \u001b[0msklearn\u001b[0m\u001b[1;33m.\u001b[0m\u001b[0mmetrics\u001b[0m \u001b[1;32mimport\u001b[0m \u001b[0mf1_score\u001b[0m\u001b[1;33m,\u001b[0m \u001b[0mconfusion_matrix\u001b[0m\u001b[1;33m,\u001b[0m \u001b[0mroc_auc_score\u001b[0m\u001b[1;33m\u001b[0m\u001b[1;33m\u001b[0m\u001b[0m\n",
      "\u001b[1;31mModuleNotFoundError\u001b[0m: No module named 'imblearn'"
     ]
    }
   ],
   "source": [
    "# Import the required modules\n",
    "import numpy as np\n",
    "import pandas as pd\n",
    "import matplotlib.pyplot as plt\n",
    "import seaborn as sns\n",
    "from sklearn.preprocessing import LabelEncoder\n",
    "from sklearn.model_selection import train_test_split\n",
    "from sklearn.linear_model import LogisticRegression\n",
    "from sklearn.tree import DecisionTreeClassifier\n",
    "from sklearn.ensemble import RandomForestClassifier\n",
    "from imblearn.under_sampling import RandomUnderSampler\n",
    "from imblearn.over_sampling import RandomOverSampler\n",
    "from sklearn.metrics import f1_score, confusion_matrix, roc_auc_score\n",
    "\n",
    "# Input data files are available in the read-only \"../input/\" directory\n",
    "# For example, running this (by clicking run or pressing Shift+Enter) will list all files under the input directory\n",
    "\n",
    "import os\n",
    "for dirname, _, filenames in os.walk('/kaggle/input'):\n",
    "    for filename in filenames:\n",
    "        print(os.path.join(dirname, filename))\n",
    "\n",
    "# Ignore warnings\n",
    "import warnings\n",
    "warnings.filterwarnings('ignore')"
   ]
  },
  {
   "cell_type": "markdown",
   "metadata": {
    "papermill": {
     "duration": 0.022391,
     "end_time": "2021-03-08T16:08:04.606108",
     "exception": false,
     "start_time": "2021-03-08T16:08:04.583717",
     "status": "completed"
    },
    "tags": []
   },
   "source": [
    "# 3. Data Loading and Exploration:"
   ]
  },
  {
   "cell_type": "code",
   "execution_count": 2,
   "metadata": {
    "execution": {
     "iopub.execute_input": "2021-03-08T16:08:04.657394Z",
     "iopub.status.busy": "2021-03-08T16:08:04.656707Z",
     "iopub.status.idle": "2021-03-08T16:08:04.722158Z",
     "shell.execute_reply": "2021-03-08T16:08:04.721161Z"
    },
    "papermill": {
     "duration": 0.093074,
     "end_time": "2021-03-08T16:08:04.722308",
     "exception": false,
     "start_time": "2021-03-08T16:08:04.629234",
     "status": "completed"
    },
    "tags": []
   },
   "outputs": [
    {
     "data": {
      "text/html": [
       "<div>\n",
       "<style scoped>\n",
       "    .dataframe tbody tr th:only-of-type {\n",
       "        vertical-align: middle;\n",
       "    }\n",
       "\n",
       "    .dataframe tbody tr th {\n",
       "        vertical-align: top;\n",
       "    }\n",
       "\n",
       "    .dataframe thead th {\n",
       "        text-align: right;\n",
       "    }\n",
       "</style>\n",
       "<table border=\"1\" class=\"dataframe\">\n",
       "  <thead>\n",
       "    <tr style=\"text-align: right;\">\n",
       "      <th></th>\n",
       "      <th>id</th>\n",
       "      <th>gender</th>\n",
       "      <th>age</th>\n",
       "      <th>hypertension</th>\n",
       "      <th>heart_disease</th>\n",
       "      <th>ever_married</th>\n",
       "      <th>work_type</th>\n",
       "      <th>Residence_type</th>\n",
       "      <th>avg_glucose_level</th>\n",
       "      <th>bmi</th>\n",
       "      <th>smoking_status</th>\n",
       "      <th>stroke</th>\n",
       "    </tr>\n",
       "  </thead>\n",
       "  <tbody>\n",
       "    <tr>\n",
       "      <th>0</th>\n",
       "      <td>9046</td>\n",
       "      <td>Male</td>\n",
       "      <td>67.0</td>\n",
       "      <td>0</td>\n",
       "      <td>1</td>\n",
       "      <td>Yes</td>\n",
       "      <td>Private</td>\n",
       "      <td>Urban</td>\n",
       "      <td>228.69</td>\n",
       "      <td>36.6</td>\n",
       "      <td>formerly smoked</td>\n",
       "      <td>1</td>\n",
       "    </tr>\n",
       "    <tr>\n",
       "      <th>1</th>\n",
       "      <td>51676</td>\n",
       "      <td>Female</td>\n",
       "      <td>61.0</td>\n",
       "      <td>0</td>\n",
       "      <td>0</td>\n",
       "      <td>Yes</td>\n",
       "      <td>Self-employed</td>\n",
       "      <td>Rural</td>\n",
       "      <td>202.21</td>\n",
       "      <td>NaN</td>\n",
       "      <td>never smoked</td>\n",
       "      <td>1</td>\n",
       "    </tr>\n",
       "    <tr>\n",
       "      <th>2</th>\n",
       "      <td>31112</td>\n",
       "      <td>Male</td>\n",
       "      <td>80.0</td>\n",
       "      <td>0</td>\n",
       "      <td>1</td>\n",
       "      <td>Yes</td>\n",
       "      <td>Private</td>\n",
       "      <td>Rural</td>\n",
       "      <td>105.92</td>\n",
       "      <td>32.5</td>\n",
       "      <td>never smoked</td>\n",
       "      <td>1</td>\n",
       "    </tr>\n",
       "    <tr>\n",
       "      <th>3</th>\n",
       "      <td>60182</td>\n",
       "      <td>Female</td>\n",
       "      <td>49.0</td>\n",
       "      <td>0</td>\n",
       "      <td>0</td>\n",
       "      <td>Yes</td>\n",
       "      <td>Private</td>\n",
       "      <td>Urban</td>\n",
       "      <td>171.23</td>\n",
       "      <td>34.4</td>\n",
       "      <td>smokes</td>\n",
       "      <td>1</td>\n",
       "    </tr>\n",
       "    <tr>\n",
       "      <th>4</th>\n",
       "      <td>1665</td>\n",
       "      <td>Female</td>\n",
       "      <td>79.0</td>\n",
       "      <td>1</td>\n",
       "      <td>0</td>\n",
       "      <td>Yes</td>\n",
       "      <td>Self-employed</td>\n",
       "      <td>Rural</td>\n",
       "      <td>174.12</td>\n",
       "      <td>24.0</td>\n",
       "      <td>never smoked</td>\n",
       "      <td>1</td>\n",
       "    </tr>\n",
       "  </tbody>\n",
       "</table>\n",
       "</div>"
      ],
      "text/plain": [
       "      id  gender   age  hypertension  heart_disease ever_married  \\\n",
       "0   9046    Male  67.0             0              1          Yes   \n",
       "1  51676  Female  61.0             0              0          Yes   \n",
       "2  31112    Male  80.0             0              1          Yes   \n",
       "3  60182  Female  49.0             0              0          Yes   \n",
       "4   1665  Female  79.0             1              0          Yes   \n",
       "\n",
       "       work_type Residence_type  avg_glucose_level   bmi   smoking_status  \\\n",
       "0        Private          Urban             228.69  36.6  formerly smoked   \n",
       "1  Self-employed          Rural             202.21   NaN     never smoked   \n",
       "2        Private          Rural             105.92  32.5     never smoked   \n",
       "3        Private          Urban             171.23  34.4           smokes   \n",
       "4  Self-employed          Rural             174.12  24.0     never smoked   \n",
       "\n",
       "   stroke  \n",
       "0       1  \n",
       "1       1  \n",
       "2       1  \n",
       "3       1  \n",
       "4       1  "
      ]
     },
     "execution_count": 2,
     "metadata": {},
     "output_type": "execute_result"
    }
   ],
   "source": [
    "# Load the data as a dataframe\n",
    "data = pd.read_csv('/kaggle/input/stroke-prediction-dataset/healthcare-dataset-stroke-data.csv')\n",
    "data.head()"
   ]
  },
  {
   "cell_type": "markdown",
   "metadata": {
    "papermill": {
     "duration": 0.023274,
     "end_time": "2021-03-08T16:08:04.770467",
     "exception": false,
     "start_time": "2021-03-08T16:08:04.747193",
     "status": "completed"
    },
    "tags": []
   },
   "source": [
    "### 3.1 Data Exploration\n",
    "\n",
    "In this section, we will do some data exploration using pandas, including looking at the missing values and the data types. Any inconsistencies need to be dealt with using data cleaning processes."
   ]
  },
  {
   "cell_type": "code",
   "execution_count": 3,
   "metadata": {
    "execution": {
     "iopub.execute_input": "2021-03-08T16:08:04.827621Z",
     "iopub.status.busy": "2021-03-08T16:08:04.827002Z",
     "iopub.status.idle": "2021-03-08T16:08:04.852719Z",
     "shell.execute_reply": "2021-03-08T16:08:04.851749Z"
    },
    "papermill": {
     "duration": 0.059129,
     "end_time": "2021-03-08T16:08:04.852932",
     "exception": false,
     "start_time": "2021-03-08T16:08:04.793803",
     "status": "completed"
    },
    "tags": []
   },
   "outputs": [
    {
     "name": "stdout",
     "output_type": "stream",
     "text": [
      "id                     int64\n",
      "gender                object\n",
      "age                  float64\n",
      "hypertension           int64\n",
      "heart_disease          int64\n",
      "ever_married          object\n",
      "work_type             object\n",
      "Residence_type        object\n",
      "avg_glucose_level    float64\n",
      "bmi                  float64\n",
      "smoking_status        object\n",
      "stroke                 int64\n",
      "dtype: object\n",
      "===================================================================\n",
      "                 id          age  hypertension  heart_disease  \\\n",
      "count   5110.000000  5110.000000   5110.000000    5110.000000   \n",
      "mean   36517.829354    43.226614      0.097456       0.054012   \n",
      "std    21161.721625    22.612647      0.296607       0.226063   \n",
      "min       67.000000     0.080000      0.000000       0.000000   \n",
      "25%    17741.250000    25.000000      0.000000       0.000000   \n",
      "50%    36932.000000    45.000000      0.000000       0.000000   \n",
      "75%    54682.000000    61.000000      0.000000       0.000000   \n",
      "max    72940.000000    82.000000      1.000000       1.000000   \n",
      "\n",
      "       avg_glucose_level          bmi       stroke  \n",
      "count        5110.000000  4909.000000  5110.000000  \n",
      "mean          106.147677    28.893237     0.048728  \n",
      "std            45.283560     7.854067     0.215320  \n",
      "min            55.120000    10.300000     0.000000  \n",
      "25%            77.245000    23.500000     0.000000  \n",
      "50%            91.885000    28.100000     0.000000  \n",
      "75%           114.090000    33.100000     0.000000  \n",
      "max           271.740000    97.600000     1.000000  \n"
     ]
    }
   ],
   "source": [
    "print(data.dtypes)\n",
    "print(\"===================================================================\")\n",
    "print(data.describe())"
   ]
  },
  {
   "cell_type": "markdown",
   "metadata": {
    "papermill": {
     "duration": 0.024391,
     "end_time": "2021-03-08T16:08:04.902072",
     "exception": false,
     "start_time": "2021-03-08T16:08:04.877681",
     "status": "completed"
    },
    "tags": []
   },
   "source": [
    "All data types seem to be correct. There are some missing values in the `bmi` column, but the others seem to be okay in that front. Most of the `object` type columns seem to be categorical with number of distinct values ranging from 2 to 5. Let's take a deeper look into the dataset, focusing on the categorical variables with less than or equal to 5 categories."
   ]
  },
  {
   "cell_type": "code",
   "execution_count": 4,
   "metadata": {
    "execution": {
     "iopub.execute_input": "2021-03-08T16:08:04.957792Z",
     "iopub.status.busy": "2021-03-08T16:08:04.956085Z",
     "iopub.status.idle": "2021-03-08T16:08:05.003230Z",
     "shell.execute_reply": "2021-03-08T16:08:05.003726Z"
    },
    "papermill": {
     "duration": 0.078027,
     "end_time": "2021-03-08T16:08:05.003894",
     "exception": false,
     "start_time": "2021-03-08T16:08:04.925867",
     "status": "completed"
    },
    "tags": []
   },
   "outputs": [
    {
     "data": {
      "text/html": [
       "<div>\n",
       "<style scoped>\n",
       "    .dataframe tbody tr th:only-of-type {\n",
       "        vertical-align: middle;\n",
       "    }\n",
       "\n",
       "    .dataframe tbody tr th {\n",
       "        vertical-align: top;\n",
       "    }\n",
       "\n",
       "    .dataframe thead th {\n",
       "        text-align: right;\n",
       "    }\n",
       "</style>\n",
       "<table border=\"1\" class=\"dataframe\">\n",
       "  <thead>\n",
       "    <tr style=\"text-align: right;\">\n",
       "      <th></th>\n",
       "      <th>Feature</th>\n",
       "      <th>Number of Categories</th>\n",
       "      <th>Categories</th>\n",
       "    </tr>\n",
       "  </thead>\n",
       "  <tbody>\n",
       "    <tr>\n",
       "      <th>1</th>\n",
       "      <td>gender</td>\n",
       "      <td>3</td>\n",
       "      <td>[Male, Female, Other]</td>\n",
       "    </tr>\n",
       "    <tr>\n",
       "      <th>3</th>\n",
       "      <td>hypertension</td>\n",
       "      <td>2</td>\n",
       "      <td>[0, 1]</td>\n",
       "    </tr>\n",
       "    <tr>\n",
       "      <th>4</th>\n",
       "      <td>heart_disease</td>\n",
       "      <td>2</td>\n",
       "      <td>[1, 0]</td>\n",
       "    </tr>\n",
       "    <tr>\n",
       "      <th>5</th>\n",
       "      <td>ever_married</td>\n",
       "      <td>2</td>\n",
       "      <td>[Yes, No]</td>\n",
       "    </tr>\n",
       "    <tr>\n",
       "      <th>6</th>\n",
       "      <td>work_type</td>\n",
       "      <td>5</td>\n",
       "      <td>[Private, Self-employed, Govt_job, children, N...</td>\n",
       "    </tr>\n",
       "    <tr>\n",
       "      <th>7</th>\n",
       "      <td>Residence_type</td>\n",
       "      <td>2</td>\n",
       "      <td>[Urban, Rural]</td>\n",
       "    </tr>\n",
       "    <tr>\n",
       "      <th>10</th>\n",
       "      <td>smoking_status</td>\n",
       "      <td>4</td>\n",
       "      <td>[formerly smoked, never smoked, smokes, Unknown]</td>\n",
       "    </tr>\n",
       "    <tr>\n",
       "      <th>11</th>\n",
       "      <td>stroke</td>\n",
       "      <td>2</td>\n",
       "      <td>[1, 0]</td>\n",
       "    </tr>\n",
       "  </tbody>\n",
       "</table>\n",
       "</div>"
      ],
      "text/plain": [
       "           Feature  Number of Categories  \\\n",
       "1           gender                     3   \n",
       "3     hypertension                     2   \n",
       "4    heart_disease                     2   \n",
       "5     ever_married                     2   \n",
       "6        work_type                     5   \n",
       "7   Residence_type                     2   \n",
       "10  smoking_status                     4   \n",
       "11          stroke                     2   \n",
       "\n",
       "                                           Categories  \n",
       "1                               [Male, Female, Other]  \n",
       "3                                              [0, 1]  \n",
       "4                                              [1, 0]  \n",
       "5                                           [Yes, No]  \n",
       "6   [Private, Self-employed, Govt_job, children, N...  \n",
       "7                                      [Urban, Rural]  \n",
       "10   [formerly smoked, never smoked, smokes, Unknown]  \n",
       "11                                             [1, 0]  "
      ]
     },
     "execution_count": 4,
     "metadata": {},
     "output_type": "execute_result"
    }
   ],
   "source": [
    "# Print the column names and the number of unique values\n",
    "# if the number of unique values is less than or equal to 5\n",
    "col_names = data.columns\n",
    "col_nunique = []\n",
    "col_unique = []\n",
    "for column in data.columns:\n",
    "    col_nunique.append(data[column].nunique())\n",
    "    col_unique.append(data[column].unique())\n",
    "    \n",
    "features = pd.DataFrame({'Feature':col_names, 'Number of Categories': col_nunique, 'Categories': col_unique})\n",
    "features = features[features['Number of Categories']<=5]\n",
    "features"
   ]
  },
  {
   "cell_type": "markdown",
   "metadata": {
    "papermill": {
     "duration": 0.024052,
     "end_time": "2021-03-08T16:08:05.052476",
     "exception": false,
     "start_time": "2021-03-08T16:08:05.028424",
     "status": "completed"
    },
    "tags": []
   },
   "source": [
    "The `gender` column seems to have 3 values - male, female and 'other'. The 'other' category was probably due to lack of information. According to a [publication](https://pubmed.ncbi.nlm.nih.gov/11252851/) from the National Institutes of Health (NIH), \"the prevalence of stroke is higher among men up to the age of approximately 80 years, after which it becomes higher in women.\" This clearly indicates a dependence of stroke on gender. Therefore, the 'other' values in the gender column must be taken care of. This can either be by imputation or by removing the rows, depending on how many rows there are. We will deal with these categories in a later section, along with encoding the categorical variables for better classification.\n",
    "\n",
    "But before that, let's check out the missing values."
   ]
  },
  {
   "cell_type": "code",
   "execution_count": 5,
   "metadata": {
    "execution": {
     "iopub.execute_input": "2021-03-08T16:08:05.112068Z",
     "iopub.status.busy": "2021-03-08T16:08:05.111310Z",
     "iopub.status.idle": "2021-03-08T16:08:05.115514Z",
     "shell.execute_reply": "2021-03-08T16:08:05.114825Z"
    },
    "papermill": {
     "duration": 0.038749,
     "end_time": "2021-03-08T16:08:05.115658",
     "exception": false,
     "start_time": "2021-03-08T16:08:05.076909",
     "status": "completed"
    },
    "tags": []
   },
   "outputs": [
    {
     "data": {
      "text/plain": [
       "id                     0\n",
       "gender                 0\n",
       "age                    0\n",
       "hypertension           0\n",
       "heart_disease          0\n",
       "ever_married           0\n",
       "work_type              0\n",
       "Residence_type         0\n",
       "avg_glucose_level      0\n",
       "bmi                  201\n",
       "smoking_status         0\n",
       "stroke                 0\n",
       "dtype: int64"
      ]
     },
     "execution_count": 5,
     "metadata": {},
     "output_type": "execute_result"
    }
   ],
   "source": [
    "# Find the missing values\n",
    "data.isnull().sum()"
   ]
  },
  {
   "cell_type": "markdown",
   "metadata": {
    "papermill": {
     "duration": 0.024512,
     "end_time": "2021-03-08T16:08:05.165159",
     "exception": false,
     "start_time": "2021-03-08T16:08:05.140647",
     "status": "completed"
    },
    "tags": []
   },
   "source": [
    "The column `bmi` has 201 missing values while none of the other columns have any. From the description of the dataset earlier, we saw that while the other data columns have values in the acceptable ranges, the column `bmi` seems off. The Body Mass Index (BMI) of regular humans ranges from 30.0 to 39.9 for \"obese\" body type. A bmi of 97.6 seems like an outlier data point. Let's take a closer look at this column."
   ]
  },
  {
   "cell_type": "code",
   "execution_count": 6,
   "metadata": {
    "execution": {
     "iopub.execute_input": "2021-03-08T16:08:05.244040Z",
     "iopub.status.busy": "2021-03-08T16:08:05.243393Z",
     "iopub.status.idle": "2021-03-08T16:08:05.246902Z",
     "shell.execute_reply": "2021-03-08T16:08:05.247389Z"
    },
    "papermill": {
     "duration": 0.05737,
     "end_time": "2021-03-08T16:08:05.247563",
     "exception": false,
     "start_time": "2021-03-08T16:08:05.190193",
     "status": "completed"
    },
    "tags": []
   },
   "outputs": [
    {
     "data": {
      "text/html": [
       "<div>\n",
       "<style scoped>\n",
       "    .dataframe tbody tr th:only-of-type {\n",
       "        vertical-align: middle;\n",
       "    }\n",
       "\n",
       "    .dataframe tbody tr th {\n",
       "        vertical-align: top;\n",
       "    }\n",
       "\n",
       "    .dataframe thead th {\n",
       "        text-align: right;\n",
       "    }\n",
       "</style>\n",
       "<table border=\"1\" class=\"dataframe\">\n",
       "  <thead>\n",
       "    <tr style=\"text-align: right;\">\n",
       "      <th></th>\n",
       "      <th>id</th>\n",
       "      <th>gender</th>\n",
       "      <th>age</th>\n",
       "      <th>hypertension</th>\n",
       "      <th>heart_disease</th>\n",
       "      <th>ever_married</th>\n",
       "      <th>work_type</th>\n",
       "      <th>Residence_type</th>\n",
       "      <th>avg_glucose_level</th>\n",
       "      <th>bmi</th>\n",
       "      <th>smoking_status</th>\n",
       "      <th>stroke</th>\n",
       "    </tr>\n",
       "  </thead>\n",
       "  <tbody>\n",
       "    <tr>\n",
       "      <th>21</th>\n",
       "      <td>13861</td>\n",
       "      <td>Female</td>\n",
       "      <td>52.0</td>\n",
       "      <td>1</td>\n",
       "      <td>0</td>\n",
       "      <td>Yes</td>\n",
       "      <td>Self-employed</td>\n",
       "      <td>Urban</td>\n",
       "      <td>233.29</td>\n",
       "      <td>48.9</td>\n",
       "      <td>never smoked</td>\n",
       "      <td>1</td>\n",
       "    </tr>\n",
       "    <tr>\n",
       "      <th>30</th>\n",
       "      <td>43717</td>\n",
       "      <td>Male</td>\n",
       "      <td>57.0</td>\n",
       "      <td>1</td>\n",
       "      <td>0</td>\n",
       "      <td>Yes</td>\n",
       "      <td>Private</td>\n",
       "      <td>Urban</td>\n",
       "      <td>212.08</td>\n",
       "      <td>44.2</td>\n",
       "      <td>smokes</td>\n",
       "      <td>1</td>\n",
       "    </tr>\n",
       "    <tr>\n",
       "      <th>60</th>\n",
       "      <td>10710</td>\n",
       "      <td>Female</td>\n",
       "      <td>56.0</td>\n",
       "      <td>0</td>\n",
       "      <td>0</td>\n",
       "      <td>Yes</td>\n",
       "      <td>Private</td>\n",
       "      <td>Urban</td>\n",
       "      <td>185.17</td>\n",
       "      <td>40.4</td>\n",
       "      <td>formerly smoked</td>\n",
       "      <td>1</td>\n",
       "    </tr>\n",
       "    <tr>\n",
       "      <th>66</th>\n",
       "      <td>17004</td>\n",
       "      <td>Female</td>\n",
       "      <td>70.0</td>\n",
       "      <td>0</td>\n",
       "      <td>0</td>\n",
       "      <td>Yes</td>\n",
       "      <td>Private</td>\n",
       "      <td>Urban</td>\n",
       "      <td>221.58</td>\n",
       "      <td>47.5</td>\n",
       "      <td>never smoked</td>\n",
       "      <td>1</td>\n",
       "    </tr>\n",
       "    <tr>\n",
       "      <th>79</th>\n",
       "      <td>42117</td>\n",
       "      <td>Male</td>\n",
       "      <td>43.0</td>\n",
       "      <td>0</td>\n",
       "      <td>0</td>\n",
       "      <td>Yes</td>\n",
       "      <td>Self-employed</td>\n",
       "      <td>Urban</td>\n",
       "      <td>143.43</td>\n",
       "      <td>45.9</td>\n",
       "      <td>Unknown</td>\n",
       "      <td>1</td>\n",
       "    </tr>\n",
       "    <tr>\n",
       "      <th>...</th>\n",
       "      <td>...</td>\n",
       "      <td>...</td>\n",
       "      <td>...</td>\n",
       "      <td>...</td>\n",
       "      <td>...</td>\n",
       "      <td>...</td>\n",
       "      <td>...</td>\n",
       "      <td>...</td>\n",
       "      <td>...</td>\n",
       "      <td>...</td>\n",
       "      <td>...</td>\n",
       "      <td>...</td>\n",
       "    </tr>\n",
       "    <tr>\n",
       "      <th>5056</th>\n",
       "      <td>53478</td>\n",
       "      <td>Female</td>\n",
       "      <td>40.0</td>\n",
       "      <td>0</td>\n",
       "      <td>0</td>\n",
       "      <td>Yes</td>\n",
       "      <td>Private</td>\n",
       "      <td>Urban</td>\n",
       "      <td>89.61</td>\n",
       "      <td>41.2</td>\n",
       "      <td>formerly smoked</td>\n",
       "      <td>0</td>\n",
       "    </tr>\n",
       "    <tr>\n",
       "      <th>5057</th>\n",
       "      <td>38349</td>\n",
       "      <td>Female</td>\n",
       "      <td>49.0</td>\n",
       "      <td>0</td>\n",
       "      <td>0</td>\n",
       "      <td>Yes</td>\n",
       "      <td>Govt_job</td>\n",
       "      <td>Urban</td>\n",
       "      <td>69.92</td>\n",
       "      <td>47.6</td>\n",
       "      <td>never smoked</td>\n",
       "      <td>0</td>\n",
       "    </tr>\n",
       "    <tr>\n",
       "      <th>5081</th>\n",
       "      <td>37680</td>\n",
       "      <td>Male</td>\n",
       "      <td>55.0</td>\n",
       "      <td>0</td>\n",
       "      <td>0</td>\n",
       "      <td>Yes</td>\n",
       "      <td>Govt_job</td>\n",
       "      <td>Rural</td>\n",
       "      <td>108.35</td>\n",
       "      <td>40.8</td>\n",
       "      <td>formerly smoked</td>\n",
       "      <td>0</td>\n",
       "    </tr>\n",
       "    <tr>\n",
       "      <th>5097</th>\n",
       "      <td>64520</td>\n",
       "      <td>Male</td>\n",
       "      <td>68.0</td>\n",
       "      <td>0</td>\n",
       "      <td>0</td>\n",
       "      <td>Yes</td>\n",
       "      <td>Self-employed</td>\n",
       "      <td>Urban</td>\n",
       "      <td>91.68</td>\n",
       "      <td>40.8</td>\n",
       "      <td>Unknown</td>\n",
       "      <td>0</td>\n",
       "    </tr>\n",
       "    <tr>\n",
       "      <th>5103</th>\n",
       "      <td>22127</td>\n",
       "      <td>Female</td>\n",
       "      <td>18.0</td>\n",
       "      <td>0</td>\n",
       "      <td>0</td>\n",
       "      <td>No</td>\n",
       "      <td>Private</td>\n",
       "      <td>Urban</td>\n",
       "      <td>82.85</td>\n",
       "      <td>46.9</td>\n",
       "      <td>Unknown</td>\n",
       "      <td>0</td>\n",
       "    </tr>\n",
       "  </tbody>\n",
       "</table>\n",
       "<p>408 rows × 12 columns</p>\n",
       "</div>"
      ],
      "text/plain": [
       "         id  gender   age  hypertension  heart_disease ever_married  \\\n",
       "21    13861  Female  52.0             1              0          Yes   \n",
       "30    43717    Male  57.0             1              0          Yes   \n",
       "60    10710  Female  56.0             0              0          Yes   \n",
       "66    17004  Female  70.0             0              0          Yes   \n",
       "79    42117    Male  43.0             0              0          Yes   \n",
       "...     ...     ...   ...           ...            ...          ...   \n",
       "5056  53478  Female  40.0             0              0          Yes   \n",
       "5057  38349  Female  49.0             0              0          Yes   \n",
       "5081  37680    Male  55.0             0              0          Yes   \n",
       "5097  64520    Male  68.0             0              0          Yes   \n",
       "5103  22127  Female  18.0             0              0           No   \n",
       "\n",
       "          work_type Residence_type  avg_glucose_level   bmi   smoking_status  \\\n",
       "21    Self-employed          Urban             233.29  48.9     never smoked   \n",
       "30          Private          Urban             212.08  44.2           smokes   \n",
       "60          Private          Urban             185.17  40.4  formerly smoked   \n",
       "66          Private          Urban             221.58  47.5     never smoked   \n",
       "79    Self-employed          Urban             143.43  45.9          Unknown   \n",
       "...             ...            ...                ...   ...              ...   \n",
       "5056        Private          Urban              89.61  41.2  formerly smoked   \n",
       "5057       Govt_job          Urban              69.92  47.6     never smoked   \n",
       "5081       Govt_job          Rural             108.35  40.8  formerly smoked   \n",
       "5097  Self-employed          Urban              91.68  40.8          Unknown   \n",
       "5103        Private          Urban              82.85  46.9          Unknown   \n",
       "\n",
       "      stroke  \n",
       "21         1  \n",
       "30         1  \n",
       "60         1  \n",
       "66         1  \n",
       "79         1  \n",
       "...      ...  \n",
       "5056       0  \n",
       "5057       0  \n",
       "5081       0  \n",
       "5097       0  \n",
       "5103       0  \n",
       "\n",
       "[408 rows x 12 columns]"
      ]
     },
     "execution_count": 6,
     "metadata": {},
     "output_type": "execute_result"
    }
   ],
   "source": [
    "# check for all the data above normal ranges\n",
    "data[data['bmi']>40]"
   ]
  },
  {
   "cell_type": "markdown",
   "metadata": {
    "papermill": {
     "duration": 0.025448,
     "end_time": "2021-03-08T16:08:05.299008",
     "exception": false,
     "start_time": "2021-03-08T16:08:05.273560",
     "status": "completed"
    },
    "tags": []
   },
   "source": [
    "There seem to be a lof of people (408 to be exact) with their BMI higher than 40. A person with a BMI of over 40 is considered to be \"morbidly obese\" according to a study by the [University of Rochester](https://www.urmc.rochester.edu/highland/bariatric-surgery-center/journey/morbid-obesity.aspx#:~:text=Normal%20BMI%20ranges%20from%2020,high%20blood%20pressure%20or%20diabetes.)."
   ]
  },
  {
   "cell_type": "code",
   "execution_count": 7,
   "metadata": {
    "execution": {
     "iopub.execute_input": "2021-03-08T16:08:05.353859Z",
     "iopub.status.busy": "2021-03-08T16:08:05.353249Z",
     "iopub.status.idle": "2021-03-08T16:08:05.489747Z",
     "shell.execute_reply": "2021-03-08T16:08:05.489198Z"
    },
    "papermill": {
     "duration": 0.165113,
     "end_time": "2021-03-08T16:08:05.489887",
     "exception": false,
     "start_time": "2021-03-08T16:08:05.324774",
     "status": "completed"
    },
    "tags": []
   },
   "outputs": [
    {
     "data": {
      "image/png": "[encoded data removed]",
      "text/plain": [
       "<Figure size 432x288 with 1 Axes>"
      ]
     },
     "metadata": {
      "needs_background": "light"
     },
     "output_type": "display_data"
    }
   ],
   "source": [
    "# Determine the outliers in the bmi column\n",
    "# Plot a boxplot\n",
    "sns.boxplot(data['bmi'], orient='v')\n",
    "plt.title('Distribution of BMI')\n",
    "plt.xlabel('BMI')\n",
    "plt.show()"
   ]
  },
  {
   "cell_type": "markdown",
   "metadata": {
    "papermill": {
     "duration": 0.026362,
     "end_time": "2021-03-08T16:08:05.543242",
     "exception": false,
     "start_time": "2021-03-08T16:08:05.516880",
     "status": "completed"
    },
    "tags": []
   },
   "source": [
    "Clearly, there are a lot of outliers in the dataset. The BMI, if above 40, is directly related to high blood sugar levels. Let's see if Pearson's correlation matches this fact."
   ]
  },
  {
   "cell_type": "code",
   "execution_count": 8,
   "metadata": {
    "execution": {
     "iopub.execute_input": "2021-03-08T16:08:05.610631Z",
     "iopub.status.busy": "2021-03-08T16:08:05.609646Z",
     "iopub.status.idle": "2021-03-08T16:08:05.613535Z",
     "shell.execute_reply": "2021-03-08T16:08:05.614033Z"
    },
    "papermill": {
     "duration": 0.044446,
     "end_time": "2021-03-08T16:08:05.614213",
     "exception": false,
     "start_time": "2021-03-08T16:08:05.569767",
     "status": "completed"
    },
    "tags": []
   },
   "outputs": [
    {
     "data": {
      "text/html": [
       "<div>\n",
       "<style scoped>\n",
       "    .dataframe tbody tr th:only-of-type {\n",
       "        vertical-align: middle;\n",
       "    }\n",
       "\n",
       "    .dataframe tbody tr th {\n",
       "        vertical-align: top;\n",
       "    }\n",
       "\n",
       "    .dataframe thead th {\n",
       "        text-align: right;\n",
       "    }\n",
       "</style>\n",
       "<table border=\"1\" class=\"dataframe\">\n",
       "  <thead>\n",
       "    <tr style=\"text-align: right;\">\n",
       "      <th></th>\n",
       "      <th>bmi</th>\n",
       "      <th>avg_glucose_level</th>\n",
       "    </tr>\n",
       "  </thead>\n",
       "  <tbody>\n",
       "    <tr>\n",
       "      <th>bmi</th>\n",
       "      <td>1.000000</td>\n",
       "      <td>-0.031528</td>\n",
       "    </tr>\n",
       "    <tr>\n",
       "      <th>avg_glucose_level</th>\n",
       "      <td>-0.031528</td>\n",
       "      <td>1.000000</td>\n",
       "    </tr>\n",
       "  </tbody>\n",
       "</table>\n",
       "</div>"
      ],
      "text/plain": [
       "                        bmi  avg_glucose_level\n",
       "bmi                1.000000          -0.031528\n",
       "avg_glucose_level -0.031528           1.000000"
      ]
     },
     "execution_count": 8,
     "metadata": {},
     "output_type": "execute_result"
    }
   ],
   "source": [
    "# Find correlation between BMI greater than 40 and average glucose level.\n",
    "data[data['bmi']>40][['bmi', 'avg_glucose_level']].corr()"
   ]
  },
  {
   "cell_type": "markdown",
   "metadata": {
    "papermill": {
     "duration": 0.026942,
     "end_time": "2021-03-08T16:08:05.668540",
     "exception": false,
     "start_time": "2021-03-08T16:08:05.641598",
     "status": "completed"
    },
    "tags": []
   },
   "source": [
    "The Pearson's correlation coefficient doesn't approve of a direct relation between `bmi` and `avg_glucose_level`, which is very odd. In fact, the coefficient suggests that they are almost unrelated (the coefficient is very close to 0). Let's look at the distribution of the BMI to see what values might be ignored (if we may)."
   ]
  },
  {
   "cell_type": "code",
   "execution_count": 9,
   "metadata": {
    "execution": {
     "iopub.execute_input": "2021-03-08T16:08:05.728540Z",
     "iopub.status.busy": "2021-03-08T16:08:05.727516Z",
     "iopub.status.idle": "2021-03-08T16:08:07.580254Z",
     "shell.execute_reply": "2021-03-08T16:08:07.579613Z"
    },
    "papermill": {
     "duration": 1.884589,
     "end_time": "2021-03-08T16:08:07.580401",
     "exception": false,
     "start_time": "2021-03-08T16:08:05.695812",
     "status": "completed"
    },
    "tags": []
   },
   "outputs": [
    {
     "data": {
      "image/png": "[encoded data removed]",
      "text/plain": [
       "<Figure size 720x432 with 1 Axes>"
      ]
     },
     "metadata": {
      "needs_background": "light"
     },
     "output_type": "display_data"
    }
   ],
   "source": [
    "# Plot a bar graph for the BMI data to get a closer look\n",
    "plt.figure(figsize=(10,6))\n",
    "sns.countplot(data['bmi'])\n",
    "plt.locator_params(axis='x', nbins=10)\n",
    "plt.title('Count Distribution of BMI', fontsize=18)\n",
    "plt.xlabel('BMI', fontsize=12)\n",
    "plt.ylabel('Count', fontsize=12)\n",
    "plt.show();"
   ]
  },
  {
   "cell_type": "markdown",
   "metadata": {
    "papermill": {
     "duration": 0.028052,
     "end_time": "2021-03-08T16:08:07.637840",
     "exception": false,
     "start_time": "2021-03-08T16:08:07.609788",
     "status": "completed"
    },
    "tags": []
   },
   "source": [
    "There is a long tail in the data after the BMI of around 46.5. This can be considered the cutoff for the BMI. But before that, we will impute the mean BMI value for the missing values."
   ]
  },
  {
   "cell_type": "markdown",
   "metadata": {
    "papermill": {
     "duration": 0.028345,
     "end_time": "2021-03-08T16:08:07.694773",
     "exception": false,
     "start_time": "2021-03-08T16:08:07.666428",
     "status": "completed"
    },
    "tags": []
   },
   "source": [
    "# Feature Engineering\n",
    "\n",
    "Let's impute the mean value of the BMI at all the missing data points.\n",
    "\n",
    "#### 1. Impute the missing values:"
   ]
  },
  {
   "cell_type": "code",
   "execution_count": 10,
   "metadata": {
    "execution": {
     "iopub.execute_input": "2021-03-08T16:08:07.762504Z",
     "iopub.status.busy": "2021-03-08T16:08:07.760032Z",
     "iopub.status.idle": "2021-03-08T16:08:07.766783Z",
     "shell.execute_reply": "2021-03-08T16:08:07.767295Z"
    },
    "papermill": {
     "duration": 0.044438,
     "end_time": "2021-03-08T16:08:07.767476",
     "exception": false,
     "start_time": "2021-03-08T16:08:07.723038",
     "status": "completed"
    },
    "tags": []
   },
   "outputs": [
    {
     "data": {
      "text/plain": [
       "id                   0\n",
       "gender               0\n",
       "age                  0\n",
       "hypertension         0\n",
       "heart_disease        0\n",
       "ever_married         0\n",
       "work_type            0\n",
       "Residence_type       0\n",
       "avg_glucose_level    0\n",
       "bmi                  0\n",
       "smoking_status       0\n",
       "stroke               0\n",
       "dtype: int64"
      ]
     },
     "execution_count": 10,
     "metadata": {},
     "output_type": "execute_result"
    }
   ],
   "source": [
    "# Impute the missing values\n",
    "data['bmi'].fillna(data['bmi'].mean(), inplace=True)\n",
    "data.isnull().sum()"
   ]
  },
  {
   "cell_type": "markdown",
   "metadata": {
    "papermill": {
     "duration": 0.028951,
     "end_time": "2021-03-08T16:08:07.825062",
     "exception": false,
     "start_time": "2021-03-08T16:08:07.796111",
     "status": "completed"
    },
    "tags": []
   },
   "source": [
    "#### 2. Replace the 'Other' value in gender with the most frequent value"
   ]
  },
  {
   "cell_type": "code",
   "execution_count": 11,
   "metadata": {
    "execution": {
     "iopub.execute_input": "2021-03-08T16:08:07.891243Z",
     "iopub.status.busy": "2021-03-08T16:08:07.887516Z",
     "iopub.status.idle": "2021-03-08T16:08:07.898724Z",
     "shell.execute_reply": "2021-03-08T16:08:07.899349Z"
    },
    "papermill": {
     "duration": 0.04598,
     "end_time": "2021-03-08T16:08:07.899530",
     "exception": false,
     "start_time": "2021-03-08T16:08:07.853550",
     "status": "completed"
    },
    "tags": []
   },
   "outputs": [
    {
     "data": {
      "text/plain": [
       "array(['Male', 'Female'], dtype=object)"
      ]
     },
     "execution_count": 11,
     "metadata": {},
     "output_type": "execute_result"
    }
   ],
   "source": [
    "# Replace 'other' with most frequent gender\n",
    "df = data.copy()\n",
    "df['gender'].replace('Other', data['gender'].value_counts().idxmax(), inplace=True)\n",
    "df['gender'].unique()"
   ]
  },
  {
   "cell_type": "markdown",
   "metadata": {
    "papermill": {
     "duration": 0.029209,
     "end_time": "2021-03-08T16:08:07.957830",
     "exception": false,
     "start_time": "2021-03-08T16:08:07.928621",
     "status": "completed"
    },
    "tags": []
   },
   "source": [
    "#### 3. Reduce the dataframe with bmi values less than 46.5"
   ]
  },
  {
   "cell_type": "code",
   "execution_count": 12,
   "metadata": {
    "execution": {
     "iopub.execute_input": "2021-03-08T16:08:08.019647Z",
     "iopub.status.busy": "2021-03-08T16:08:08.019054Z",
     "iopub.status.idle": "2021-03-08T16:08:08.052459Z",
     "shell.execute_reply": "2021-03-08T16:08:08.051901Z"
    },
    "papermill": {
     "duration": 0.065488,
     "end_time": "2021-03-08T16:08:08.052595",
     "exception": false,
     "start_time": "2021-03-08T16:08:07.987107",
     "status": "completed"
    },
    "tags": []
   },
   "outputs": [
    {
     "data": {
      "text/html": [
       "<div>\n",
       "<style scoped>\n",
       "    .dataframe tbody tr th:only-of-type {\n",
       "        vertical-align: middle;\n",
       "    }\n",
       "\n",
       "    .dataframe tbody tr th {\n",
       "        vertical-align: top;\n",
       "    }\n",
       "\n",
       "    .dataframe thead th {\n",
       "        text-align: right;\n",
       "    }\n",
       "</style>\n",
       "<table border=\"1\" class=\"dataframe\">\n",
       "  <thead>\n",
       "    <tr style=\"text-align: right;\">\n",
       "      <th></th>\n",
       "      <th>id</th>\n",
       "      <th>age</th>\n",
       "      <th>hypertension</th>\n",
       "      <th>heart_disease</th>\n",
       "      <th>avg_glucose_level</th>\n",
       "      <th>bmi</th>\n",
       "      <th>stroke</th>\n",
       "    </tr>\n",
       "  </thead>\n",
       "  <tbody>\n",
       "    <tr>\n",
       "      <th>count</th>\n",
       "      <td>4989.000000</td>\n",
       "      <td>4989.000000</td>\n",
       "      <td>4989.000000</td>\n",
       "      <td>4989.000000</td>\n",
       "      <td>4989.000000</td>\n",
       "      <td>4989.000000</td>\n",
       "      <td>4989.000000</td>\n",
       "    </tr>\n",
       "    <tr>\n",
       "      <th>mean</th>\n",
       "      <td>36616.992584</td>\n",
       "      <td>43.191421</td>\n",
       "      <td>0.095610</td>\n",
       "      <td>0.055121</td>\n",
       "      <td>105.722283</td>\n",
       "      <td>28.295378</td>\n",
       "      <td>0.049308</td>\n",
       "    </tr>\n",
       "    <tr>\n",
       "      <th>std</th>\n",
       "      <td>21144.110153</td>\n",
       "      <td>22.784470</td>\n",
       "      <td>0.294086</td>\n",
       "      <td>0.228240</td>\n",
       "      <td>44.816024</td>\n",
       "      <td>6.652017</td>\n",
       "      <td>0.216533</td>\n",
       "    </tr>\n",
       "    <tr>\n",
       "      <th>min</th>\n",
       "      <td>67.000000</td>\n",
       "      <td>0.080000</td>\n",
       "      <td>0.000000</td>\n",
       "      <td>0.000000</td>\n",
       "      <td>55.120000</td>\n",
       "      <td>10.300000</td>\n",
       "      <td>0.000000</td>\n",
       "    </tr>\n",
       "    <tr>\n",
       "      <th>25%</th>\n",
       "      <td>17827.000000</td>\n",
       "      <td>25.000000</td>\n",
       "      <td>0.000000</td>\n",
       "      <td>0.000000</td>\n",
       "      <td>77.190000</td>\n",
       "      <td>23.600000</td>\n",
       "      <td>0.000000</td>\n",
       "    </tr>\n",
       "    <tr>\n",
       "      <th>50%</th>\n",
       "      <td>37025.000000</td>\n",
       "      <td>45.000000</td>\n",
       "      <td>0.000000</td>\n",
       "      <td>0.000000</td>\n",
       "      <td>91.820000</td>\n",
       "      <td>28.200000</td>\n",
       "      <td>0.000000</td>\n",
       "    </tr>\n",
       "    <tr>\n",
       "      <th>75%</th>\n",
       "      <td>54795.000000</td>\n",
       "      <td>61.000000</td>\n",
       "      <td>0.000000</td>\n",
       "      <td>0.000000</td>\n",
       "      <td>113.800000</td>\n",
       "      <td>32.300000</td>\n",
       "      <td>0.000000</td>\n",
       "    </tr>\n",
       "    <tr>\n",
       "      <th>max</th>\n",
       "      <td>72940.000000</td>\n",
       "      <td>82.000000</td>\n",
       "      <td>1.000000</td>\n",
       "      <td>1.000000</td>\n",
       "      <td>271.740000</td>\n",
       "      <td>46.500000</td>\n",
       "      <td>1.000000</td>\n",
       "    </tr>\n",
       "  </tbody>\n",
       "</table>\n",
       "</div>"
      ],
      "text/plain": [
       "                 id          age  hypertension  heart_disease  \\\n",
       "count   4989.000000  4989.000000   4989.000000    4989.000000   \n",
       "mean   36616.992584    43.191421      0.095610       0.055121   \n",
       "std    21144.110153    22.784470      0.294086       0.228240   \n",
       "min       67.000000     0.080000      0.000000       0.000000   \n",
       "25%    17827.000000    25.000000      0.000000       0.000000   \n",
       "50%    37025.000000    45.000000      0.000000       0.000000   \n",
       "75%    54795.000000    61.000000      0.000000       0.000000   \n",
       "max    72940.000000    82.000000      1.000000       1.000000   \n",
       "\n",
       "       avg_glucose_level          bmi       stroke  \n",
       "count        4989.000000  4989.000000  4989.000000  \n",
       "mean          105.722283    28.295378     0.049308  \n",
       "std            44.816024     6.652017     0.216533  \n",
       "min            55.120000    10.300000     0.000000  \n",
       "25%            77.190000    23.600000     0.000000  \n",
       "50%            91.820000    28.200000     0.000000  \n",
       "75%           113.800000    32.300000     0.000000  \n",
       "max           271.740000    46.500000     1.000000  "
      ]
     },
     "execution_count": 12,
     "metadata": {},
     "output_type": "execute_result"
    }
   ],
   "source": [
    "# Neglect the bmi values over 46.5\n",
    "df = df[df['bmi']<=46.5]\n",
    "df.describe()"
   ]
  },
  {
   "cell_type": "markdown",
   "metadata": {
    "papermill": {
     "duration": 0.029811,
     "end_time": "2021-03-08T16:08:08.112251",
     "exception": false,
     "start_time": "2021-03-08T16:08:08.082440",
     "status": "completed"
    },
    "tags": []
   },
   "source": [
    "#### 4. Drop the unnecessary columns:"
   ]
  },
  {
   "cell_type": "code",
   "execution_count": 13,
   "metadata": {
    "execution": {
     "iopub.execute_input": "2021-03-08T16:08:08.191391Z",
     "iopub.status.busy": "2021-03-08T16:08:08.190675Z",
     "iopub.status.idle": "2021-03-08T16:08:08.193430Z",
     "shell.execute_reply": "2021-03-08T16:08:08.193864Z"
    },
    "papermill": {
     "duration": 0.051751,
     "end_time": "2021-03-08T16:08:08.194065",
     "exception": false,
     "start_time": "2021-03-08T16:08:08.142314",
     "status": "completed"
    },
    "tags": []
   },
   "outputs": [
    {
     "data": {
      "text/html": [
       "<div>\n",
       "<style scoped>\n",
       "    .dataframe tbody tr th:only-of-type {\n",
       "        vertical-align: middle;\n",
       "    }\n",
       "\n",
       "    .dataframe tbody tr th {\n",
       "        vertical-align: top;\n",
       "    }\n",
       "\n",
       "    .dataframe thead th {\n",
       "        text-align: right;\n",
       "    }\n",
       "</style>\n",
       "<table border=\"1\" class=\"dataframe\">\n",
       "  <thead>\n",
       "    <tr style=\"text-align: right;\">\n",
       "      <th></th>\n",
       "      <th>gender</th>\n",
       "      <th>age</th>\n",
       "      <th>hypertension</th>\n",
       "      <th>heart_disease</th>\n",
       "      <th>ever_married</th>\n",
       "      <th>work_type</th>\n",
       "      <th>Residence_type</th>\n",
       "      <th>avg_glucose_level</th>\n",
       "      <th>bmi</th>\n",
       "      <th>smoking_status</th>\n",
       "      <th>stroke</th>\n",
       "    </tr>\n",
       "  </thead>\n",
       "  <tbody>\n",
       "    <tr>\n",
       "      <th>0</th>\n",
       "      <td>Male</td>\n",
       "      <td>67.0</td>\n",
       "      <td>0</td>\n",
       "      <td>1</td>\n",
       "      <td>Yes</td>\n",
       "      <td>Private</td>\n",
       "      <td>Urban</td>\n",
       "      <td>228.69</td>\n",
       "      <td>36.600000</td>\n",
       "      <td>formerly smoked</td>\n",
       "      <td>1</td>\n",
       "    </tr>\n",
       "    <tr>\n",
       "      <th>1</th>\n",
       "      <td>Female</td>\n",
       "      <td>61.0</td>\n",
       "      <td>0</td>\n",
       "      <td>0</td>\n",
       "      <td>Yes</td>\n",
       "      <td>Self-employed</td>\n",
       "      <td>Rural</td>\n",
       "      <td>202.21</td>\n",
       "      <td>28.893237</td>\n",
       "      <td>never smoked</td>\n",
       "      <td>1</td>\n",
       "    </tr>\n",
       "    <tr>\n",
       "      <th>2</th>\n",
       "      <td>Male</td>\n",
       "      <td>80.0</td>\n",
       "      <td>0</td>\n",
       "      <td>1</td>\n",
       "      <td>Yes</td>\n",
       "      <td>Private</td>\n",
       "      <td>Rural</td>\n",
       "      <td>105.92</td>\n",
       "      <td>32.500000</td>\n",
       "      <td>never smoked</td>\n",
       "      <td>1</td>\n",
       "    </tr>\n",
       "    <tr>\n",
       "      <th>3</th>\n",
       "      <td>Female</td>\n",
       "      <td>49.0</td>\n",
       "      <td>0</td>\n",
       "      <td>0</td>\n",
       "      <td>Yes</td>\n",
       "      <td>Private</td>\n",
       "      <td>Urban</td>\n",
       "      <td>171.23</td>\n",
       "      <td>34.400000</td>\n",
       "      <td>smokes</td>\n",
       "      <td>1</td>\n",
       "    </tr>\n",
       "    <tr>\n",
       "      <th>4</th>\n",
       "      <td>Female</td>\n",
       "      <td>79.0</td>\n",
       "      <td>1</td>\n",
       "      <td>0</td>\n",
       "      <td>Yes</td>\n",
       "      <td>Self-employed</td>\n",
       "      <td>Rural</td>\n",
       "      <td>174.12</td>\n",
       "      <td>24.000000</td>\n",
       "      <td>never smoked</td>\n",
       "      <td>1</td>\n",
       "    </tr>\n",
       "  </tbody>\n",
       "</table>\n",
       "</div>"
      ],
      "text/plain": [
       "   gender   age  hypertension  heart_disease ever_married      work_type  \\\n",
       "0    Male  67.0             0              1          Yes        Private   \n",
       "1  Female  61.0             0              0          Yes  Self-employed   \n",
       "2    Male  80.0             0              1          Yes        Private   \n",
       "3  Female  49.0             0              0          Yes        Private   \n",
       "4  Female  79.0             1              0          Yes  Self-employed   \n",
       "\n",
       "  Residence_type  avg_glucose_level        bmi   smoking_status  stroke  \n",
       "0          Urban             228.69  36.600000  formerly smoked       1  \n",
       "1          Rural             202.21  28.893237     never smoked       1  \n",
       "2          Rural             105.92  32.500000     never smoked       1  \n",
       "3          Urban             171.23  34.400000           smokes       1  \n",
       "4          Rural             174.12  24.000000     never smoked       1  "
      ]
     },
     "execution_count": 13,
     "metadata": {},
     "output_type": "execute_result"
    }
   ],
   "source": [
    "df.drop('id', axis=1, inplace=True)\n",
    "df.head()"
   ]
  },
  {
   "cell_type": "markdown",
   "metadata": {
    "papermill": {
     "duration": 0.030066,
     "end_time": "2021-03-08T16:08:08.254587",
     "exception": false,
     "start_time": "2021-03-08T16:08:08.224521",
     "status": "completed"
    },
    "tags": []
   },
   "source": [
    "#### 5. Encode all the categorical columns:"
   ]
  },
  {
   "cell_type": "code",
   "execution_count": 14,
   "metadata": {
    "execution": {
     "iopub.execute_input": "2021-03-08T16:08:08.318969Z",
     "iopub.status.busy": "2021-03-08T16:08:08.318330Z",
     "iopub.status.idle": "2021-03-08T16:08:08.350747Z",
     "shell.execute_reply": "2021-03-08T16:08:08.349356Z"
    },
    "papermill": {
     "duration": 0.065699,
     "end_time": "2021-03-08T16:08:08.350897",
     "exception": false,
     "start_time": "2021-03-08T16:08:08.285198",
     "status": "completed"
    },
    "tags": []
   },
   "outputs": [
    {
     "data": {
      "text/html": [
       "<div>\n",
       "<style scoped>\n",
       "    .dataframe tbody tr th:only-of-type {\n",
       "        vertical-align: middle;\n",
       "    }\n",
       "\n",
       "    .dataframe tbody tr th {\n",
       "        vertical-align: top;\n",
       "    }\n",
       "\n",
       "    .dataframe thead th {\n",
       "        text-align: right;\n",
       "    }\n",
       "</style>\n",
       "<table border=\"1\" class=\"dataframe\">\n",
       "  <thead>\n",
       "    <tr style=\"text-align: right;\">\n",
       "      <th></th>\n",
       "      <th>gender</th>\n",
       "      <th>age</th>\n",
       "      <th>hypertension</th>\n",
       "      <th>heart_disease</th>\n",
       "      <th>ever_married</th>\n",
       "      <th>work_type</th>\n",
       "      <th>Residence_type</th>\n",
       "      <th>avg_glucose_level</th>\n",
       "      <th>bmi</th>\n",
       "      <th>smoking_status</th>\n",
       "      <th>stroke</th>\n",
       "    </tr>\n",
       "  </thead>\n",
       "  <tbody>\n",
       "    <tr>\n",
       "      <th>0</th>\n",
       "      <td>1</td>\n",
       "      <td>67.0</td>\n",
       "      <td>0</td>\n",
       "      <td>1</td>\n",
       "      <td>1</td>\n",
       "      <td>2</td>\n",
       "      <td>1</td>\n",
       "      <td>228.69</td>\n",
       "      <td>36.600000</td>\n",
       "      <td>1</td>\n",
       "      <td>1</td>\n",
       "    </tr>\n",
       "    <tr>\n",
       "      <th>1</th>\n",
       "      <td>0</td>\n",
       "      <td>61.0</td>\n",
       "      <td>0</td>\n",
       "      <td>0</td>\n",
       "      <td>1</td>\n",
       "      <td>3</td>\n",
       "      <td>0</td>\n",
       "      <td>202.21</td>\n",
       "      <td>28.893237</td>\n",
       "      <td>2</td>\n",
       "      <td>1</td>\n",
       "    </tr>\n",
       "    <tr>\n",
       "      <th>2</th>\n",
       "      <td>1</td>\n",
       "      <td>80.0</td>\n",
       "      <td>0</td>\n",
       "      <td>1</td>\n",
       "      <td>1</td>\n",
       "      <td>2</td>\n",
       "      <td>0</td>\n",
       "      <td>105.92</td>\n",
       "      <td>32.500000</td>\n",
       "      <td>2</td>\n",
       "      <td>1</td>\n",
       "    </tr>\n",
       "    <tr>\n",
       "      <th>3</th>\n",
       "      <td>0</td>\n",
       "      <td>49.0</td>\n",
       "      <td>0</td>\n",
       "      <td>0</td>\n",
       "      <td>1</td>\n",
       "      <td>2</td>\n",
       "      <td>1</td>\n",
       "      <td>171.23</td>\n",
       "      <td>34.400000</td>\n",
       "      <td>3</td>\n",
       "      <td>1</td>\n",
       "    </tr>\n",
       "    <tr>\n",
       "      <th>4</th>\n",
       "      <td>0</td>\n",
       "      <td>79.0</td>\n",
       "      <td>1</td>\n",
       "      <td>0</td>\n",
       "      <td>1</td>\n",
       "      <td>3</td>\n",
       "      <td>0</td>\n",
       "      <td>174.12</td>\n",
       "      <td>24.000000</td>\n",
       "      <td>2</td>\n",
       "      <td>1</td>\n",
       "    </tr>\n",
       "  </tbody>\n",
       "</table>\n",
       "</div>"
      ],
      "text/plain": [
       "   gender   age  hypertension  heart_disease  ever_married  work_type  \\\n",
       "0       1  67.0             0              1             1          2   \n",
       "1       0  61.0             0              0             1          3   \n",
       "2       1  80.0             0              1             1          2   \n",
       "3       0  49.0             0              0             1          2   \n",
       "4       0  79.0             1              0             1          3   \n",
       "\n",
       "   Residence_type  avg_glucose_level        bmi  smoking_status  stroke  \n",
       "0               1             228.69  36.600000               1       1  \n",
       "1               0             202.21  28.893237               2       1  \n",
       "2               0             105.92  32.500000               2       1  \n",
       "3               1             171.23  34.400000               3       1  \n",
       "4               0             174.12  24.000000               2       1  "
      ]
     },
     "execution_count": 14,
     "metadata": {},
     "output_type": "execute_result"
    }
   ],
   "source": [
    "# Select and transform the required columns\n",
    "le = LabelEncoder()\n",
    "cat_cols = ['gender', 'ever_married', 'work_type', 'Residence_type', 'smoking_status']\n",
    "df[cat_cols] = df[cat_cols].apply(le.fit_transform)\n",
    "df.head()"
   ]
  },
  {
   "cell_type": "markdown",
   "metadata": {
    "papermill": {
     "duration": 0.03081,
     "end_time": "2021-03-08T16:08:08.415453",
     "exception": false,
     "start_time": "2021-03-08T16:08:08.384643",
     "status": "completed"
    },
    "tags": []
   },
   "source": [
    "#### 6. Find the correlation coefficients between the columns:"
   ]
  },
  {
   "cell_type": "code",
   "execution_count": 15,
   "metadata": {
    "execution": {
     "iopub.execute_input": "2021-03-08T16:08:08.484828Z",
     "iopub.status.busy": "2021-03-08T16:08:08.483924Z",
     "iopub.status.idle": "2021-03-08T16:08:09.532674Z",
     "shell.execute_reply": "2021-03-08T16:08:09.533225Z"
    },
    "papermill": {
     "duration": 1.086476,
     "end_time": "2021-03-08T16:08:09.533403",
     "exception": false,
     "start_time": "2021-03-08T16:08:08.446927",
     "status": "completed"
    },
    "tags": []
   },
   "outputs": [
    {
     "data": {
      "image/png": "[encoded data removed]",
      "text/plain": [
       "<Figure size 864x576 with 2 Axes>"
      ]
     },
     "metadata": {
      "needs_background": "light"
     },
     "output_type": "display_data"
    }
   ],
   "source": [
    "# Find the correlation matrix\n",
    "plt.figure(figsize=(12,8))\n",
    "sns.heatmap(df.corr(), annot=True)\n",
    "plt.show()"
   ]
  },
  {
   "cell_type": "markdown",
   "metadata": {
    "papermill": {
     "duration": 0.033959,
     "end_time": "2021-03-08T16:08:09.601744",
     "exception": false,
     "start_time": "2021-03-08T16:08:09.567785",
     "status": "completed"
    },
    "tags": []
   },
   "source": [
    "# Classification Model"
   ]
  },
  {
   "cell_type": "code",
   "execution_count": 16,
   "metadata": {
    "execution": {
     "iopub.execute_input": "2021-03-08T16:08:09.674855Z",
     "iopub.status.busy": "2021-03-08T16:08:09.674179Z",
     "iopub.status.idle": "2021-03-08T16:08:09.681081Z",
     "shell.execute_reply": "2021-03-08T16:08:09.680524Z"
    },
    "papermill": {
     "duration": 0.046097,
     "end_time": "2021-03-08T16:08:09.681223",
     "exception": false,
     "start_time": "2021-03-08T16:08:09.635126",
     "status": "completed"
    },
    "tags": []
   },
   "outputs": [],
   "source": [
    "# Perform the split into training and testing datasets\n",
    "X = df.drop('stroke', axis=1)\n",
    "y = df['stroke']\n",
    "\n",
    "\n",
    "X_train, X_test, y_train, y_test = train_test_split(X, y, test_size=0.25, random_state=0)"
   ]
  },
  {
   "cell_type": "markdown",
   "metadata": {
    "papermill": {
     "duration": 0.033321,
     "end_time": "2021-03-08T16:08:09.748631",
     "exception": false,
     "start_time": "2021-03-08T16:08:09.715310",
     "status": "completed"
    },
    "tags": []
   },
   "source": [
    "#### 1. Logistic Regression"
   ]
  },
  {
   "cell_type": "code",
   "execution_count": 17,
   "metadata": {
    "execution": {
     "iopub.execute_input": "2021-03-08T16:08:09.824402Z",
     "iopub.status.busy": "2021-03-08T16:08:09.823735Z",
     "iopub.status.idle": "2021-03-08T16:08:09.909197Z",
     "shell.execute_reply": "2021-03-08T16:08:09.908653Z"
    },
    "papermill": {
     "duration": 0.127005,
     "end_time": "2021-03-08T16:08:09.909340",
     "exception": false,
     "start_time": "2021-03-08T16:08:09.782335",
     "status": "completed"
    },
    "tags": []
   },
   "outputs": [
    {
     "name": "stdout",
     "output_type": "stream",
     "text": [
      "The F1-score of Logistic Regression is: 0.0\n",
      "The ROC-AUC score of Logistic Regression is: 0.5\n"
     ]
    }
   ],
   "source": [
    "# Fit the model and Predict with Logistic Regression\n",
    "lr = LogisticRegression(random_state=0)\n",
    "lr.fit(X_train, y_train)\n",
    "y_pred_lr = lr.predict(X_test)\n",
    "\n",
    "# Print out the metrics for Logistic Regression\n",
    "print(\"The F1-score of Logistic Regression is: {}\".format(round(f1_score(y_test, y_pred_lr),2)))\n",
    "print(\"The ROC-AUC score of Logistic Regression is: {}\".format(roc_auc_score(y_test, y_pred_lr),2))"
   ]
  },
  {
   "cell_type": "markdown",
   "metadata": {
    "papermill": {
     "duration": 0.034801,
     "end_time": "2021-03-08T16:08:09.978692",
     "exception": false,
     "start_time": "2021-03-08T16:08:09.943891",
     "status": "completed"
    },
    "tags": []
   },
   "source": [
    "#### 2. Decision Tree Classifier"
   ]
  },
  {
   "cell_type": "code",
   "execution_count": 18,
   "metadata": {
    "execution": {
     "iopub.execute_input": "2021-03-08T16:08:10.057492Z",
     "iopub.status.busy": "2021-03-08T16:08:10.056773Z",
     "iopub.status.idle": "2021-03-08T16:08:10.080414Z",
     "shell.execute_reply": "2021-03-08T16:08:10.079681Z"
    },
    "papermill": {
     "duration": 0.067289,
     "end_time": "2021-03-08T16:08:10.080622",
     "exception": false,
     "start_time": "2021-03-08T16:08:10.013333",
     "status": "completed"
    },
    "tags": []
   },
   "outputs": [
    {
     "name": "stdout",
     "output_type": "stream",
     "text": [
      "The F1-score of Decision Tree Classifier is: 0.19\n",
      "The ROC-AUC score of Decision Tree Classifier is: 0.58\n"
     ]
    }
   ],
   "source": [
    "# Fit the model and predict with Decision Tree Classifier\n",
    "dt = DecisionTreeClassifier(random_state=0)\n",
    "dt.fit(X_train, y_train)\n",
    "y_pred_dt = dt.predict(X_test)\n",
    "\n",
    "# Print out the metrics for Decision Tree Classifier\n",
    "print(\"The F1-score of Decision Tree Classifier is: {}\".format(round(f1_score(y_test, y_pred_dt),2)))\n",
    "print(\"The ROC-AUC score of Decision Tree Classifier is: {}\".format(round(roc_auc_score(y_test, y_pred_dt),2)))"
   ]
  },
  {
   "cell_type": "markdown",
   "metadata": {
    "papermill": {
     "duration": 0.0344,
     "end_time": "2021-03-08T16:08:10.151003",
     "exception": false,
     "start_time": "2021-03-08T16:08:10.116603",
     "status": "completed"
    },
    "tags": []
   },
   "source": [
    "#### 3. Random Forest Classifier"
   ]
  },
  {
   "cell_type": "code",
   "execution_count": 19,
   "metadata": {
    "execution": {
     "iopub.execute_input": "2021-03-08T16:08:10.229088Z",
     "iopub.status.busy": "2021-03-08T16:08:10.228098Z",
     "iopub.status.idle": "2021-03-08T16:08:10.686363Z",
     "shell.execute_reply": "2021-03-08T16:08:10.685820Z"
    },
    "papermill": {
     "duration": 0.500973,
     "end_time": "2021-03-08T16:08:10.686509",
     "exception": false,
     "start_time": "2021-03-08T16:08:10.185536",
     "status": "completed"
    },
    "tags": []
   },
   "outputs": [
    {
     "name": "stdout",
     "output_type": "stream",
     "text": [
      "The F1-score of Random Forest Classifier is: 0.1\n",
      "The ROC-AUC score of Random Forest Classifier is: 0.53\n"
     ]
    }
   ],
   "source": [
    "# Fit the model and predict with Random Forest Classifier\n",
    "rf = RandomForestClassifier(random_state=0)\n",
    "rf.fit(X_train, y_train)\n",
    "y_pred_rf = rf.predict(X_test)\n",
    "\n",
    "# Print out the metrics for Random Forest Classifier\n",
    "print(\"The F1-score of Random Forest Classifier is: {}\".format(round(f1_score(y_test, y_pred_rf),2)))\n",
    "print(\"The ROC-AUC score of Random Forest Classifier is: {}\".format(round(roc_auc_score(y_test, y_pred_rf),2)))"
   ]
  },
  {
   "cell_type": "markdown",
   "metadata": {
    "papermill": {
     "duration": 0.034744,
     "end_time": "2021-03-08T16:08:10.756617",
     "exception": false,
     "start_time": "2021-03-08T16:08:10.721873",
     "status": "completed"
    },
    "tags": []
   },
   "source": [
    "For the above classification models, it looks like the F1-score and the ROC/AUC score are really bad, except for the Decision Tree Classifier, where the numbers are slightly better. This can be because the ratio of \"negative\" to \"positive\" cases of strokes in the dataset is very, very high. Therefore, the model has high accuracy score in training the data but doesn't work very well with the testing dataset. Is there a way around this problem?\n",
    "\n",
    "The low f1 scores and ROC-AUC scores are because of the mismatch in the number of target values. A popular method to deal with such a problem is resampling. The resampling can either be **undersampling**, which involves removing samples from the majority class and **oversampling**, where we add more examples from the minority class.\n",
    "\n",
    "Each sampling method has it's own disadvantages in addition to the obvious advantages. In undersampling, where we only take samples from the majority class, there can be loss of important data. During oversampling, there will be copies of the minority class, which can cause overfitting.\n",
    "\n",
    "**We will try both over-sampling and under-sampling to see if our model improves.**\n",
    "\n",
    "# Resampling\n",
    "**1. UNDER-SAMPLING:** \n",
    "We will use Python's imbalanced-learn module to under-sample our data."
   ]
  },
  {
   "cell_type": "code",
   "execution_count": 20,
   "metadata": {
    "execution": {
     "iopub.execute_input": "2021-03-08T16:08:10.839606Z",
     "iopub.status.busy": "2021-03-08T16:08:10.836762Z",
     "iopub.status.idle": "2021-03-08T16:08:11.160924Z",
     "shell.execute_reply": "2021-03-08T16:08:11.161478Z"
    },
    "papermill": {
     "duration": 0.369883,
     "end_time": "2021-03-08T16:08:11.161653",
     "exception": false,
     "start_time": "2021-03-08T16:08:10.791770",
     "status": "completed"
    },
    "tags": []
   },
   "outputs": [
    {
     "name": "stdout",
     "output_type": "stream",
     "text": [
      "The F1-score of Decision Tree Classifier is: 0.19\n",
      "The ROC-AUC score of Decision Tree Classifier is: 0.73\n",
      "\n",
      "========================================================================================================\n",
      "\n",
      "The F1-score of Logistic Regression is: 0.23\n",
      "The ROC-AUC score of Logistic Regression is: 0.78\n",
      "\n",
      "========================================================================================================\n",
      "\n",
      "The F1-score of Random Forest Classifier is: 0.22\n",
      "The ROC-AUC score of Random Forest Classifier is: 0.77\n"
     ]
    }
   ],
   "source": [
    "# Use RandomUnderSampler module\n",
    "rus = RandomUnderSampler(random_state=0)\n",
    "X_rus, y_rus = rus.fit_resample(X_train, y_train)\n",
    "\n",
    "# Use the resampled data to train the Decision Tree model:\n",
    "dt_rus = DecisionTreeClassifier(random_state=0)\n",
    "dt_rus.fit(X_rus, y_rus)\n",
    "y_pred_dt_rus = dt_rus.predict(X_test)\n",
    "\n",
    "# Print out the metrics for Decision Tree Classifier\n",
    "print(\"The F1-score of Decision Tree Classifier is: {}\".format(round(f1_score(y_test, y_pred_dt_rus),2)))\n",
    "print(\"The ROC-AUC score of Decision Tree Classifier is: {}\".format(round(roc_auc_score(y_test, y_pred_dt_rus),2)))\n",
    "\n",
    "print(\"\\n========================================================================================================\\n\")\n",
    "\n",
    "# Use the resampled data to train the Logistic Regression model:\n",
    "lr_rus = LogisticRegression(random_state=0)\n",
    "lr_rus.fit(X_rus, y_rus)\n",
    "y_pred_lr_rus = lr_rus.predict(X_test)\n",
    "\n",
    "# Print out the metrics for Logistic Regression\n",
    "print(\"The F1-score of Logistic Regression is: {}\".format(round(f1_score(y_test, y_pred_lr_rus),2)))\n",
    "print(\"The ROC-AUC score of Logistic Regression is: {}\".format(round(roc_auc_score(y_test, y_pred_lr_rus),2)))\n",
    "\n",
    "print(\"\\n========================================================================================================\\n\")\n",
    "\n",
    "# Check with Random Forest Classifier\n",
    "rf_rus = RandomForestClassifier(random_state=0)\n",
    "rf_rus.fit(X_rus, y_rus)\n",
    "y_pred_rf_rus = rf_rus.predict(X_test)\n",
    "\n",
    "# Print out the metrics for Random Forest Classifier\n",
    "print(\"The F1-score of Random Forest Classifier is: {}\".format(round(f1_score(y_test, y_pred_rf_rus),2)))\n",
    "print(\"The ROC-AUC score of Random Forest Classifier is: {}\".format(round(roc_auc_score(y_test, y_pred_rf_rus),2)))"
   ]
  },
  {
   "cell_type": "markdown",
   "metadata": {
    "papermill": {
     "duration": 0.046464,
     "end_time": "2021-03-08T16:08:11.244607",
     "exception": false,
     "start_time": "2021-03-08T16:08:11.198143",
     "status": "completed"
    },
    "tags": []
   },
   "source": [
    "**2. OVER-SAMPLING:**"
   ]
  },
  {
   "cell_type": "code",
   "execution_count": 21,
   "metadata": {
    "execution": {
     "iopub.execute_input": "2021-03-08T16:08:11.330355Z",
     "iopub.status.busy": "2021-03-08T16:08:11.329244Z",
     "iopub.status.idle": "2021-03-08T16:08:12.134376Z",
     "shell.execute_reply": "2021-03-08T16:08:12.133789Z"
    },
    "papermill": {
     "duration": 0.853143,
     "end_time": "2021-03-08T16:08:12.134560",
     "exception": false,
     "start_time": "2021-03-08T16:08:11.281417",
     "status": "completed"
    },
    "tags": []
   },
   "outputs": [
    {
     "name": "stdout",
     "output_type": "stream",
     "text": [
      "The F1-score of Decision Tree Classifier is: 0.14\n",
      "The ROC-AUC score of Decision Tree Classifier is: 0.55\n",
      "\n",
      "==========================================================================================\n",
      "\n",
      "The F1-score of Logistic Regression is: 0.23\n",
      "The ROC-AUC score of Logistic Regression is: 0.78\n",
      "\n",
      "==========================================================================================\n",
      "\n",
      "The F1-score of Random Forest Classifier is: 0.11\n",
      "The ROC-AUC score of Random Forest Classifier is: 0.53\n"
     ]
    }
   ],
   "source": [
    "# Use RandomOverSampler module\n",
    "ros = RandomOverSampler(random_state=0)\n",
    "X_ros, y_ros = ros.fit_resample(X_train, y_train)\n",
    "\n",
    "# Use the resampled data to train the Decision Tree model:\n",
    "dt_ros = DecisionTreeClassifier(random_state=0)\n",
    "dt_ros.fit(X_ros, y_ros)\n",
    "y_pred_dt_ros = dt_ros.predict(X_test)\n",
    "\n",
    "# Print out the metrics for Decision Tree Classifier\n",
    "print(\"The F1-score of Decision Tree Classifier is: {}\".format(round(f1_score(y_test, y_pred_dt_ros),2)))\n",
    "print(\"The ROC-AUC score of Decision Tree Classifier is: {}\".format(round(roc_auc_score(y_test, y_pred_dt_ros),2)))\n",
    "\n",
    "print(\"\\n==========================================================================================\\n\")\n",
    "\n",
    "# Check with Logistic Regression\n",
    "lr_ros = LogisticRegression(random_state=0)\n",
    "lr_ros.fit(X_ros, y_ros)\n",
    "y_pred_lr_ros = lr_ros.predict(X_test)\n",
    "\n",
    "# Print out the metrics for Logistic Regression\n",
    "print(\"The F1-score of Logistic Regression is: {}\".format(round(f1_score(y_test, y_pred_lr_ros),2)))\n",
    "print(\"The ROC-AUC score of Logistic Regression is: {}\".format(round(roc_auc_score(y_test, y_pred_lr_ros),2)))\n",
    "\n",
    "print(\"\\n==========================================================================================\\n\")\n",
    "\n",
    "# Check with Random Forest Classifier\n",
    "rf_ros = RandomForestClassifier(random_state=0)\n",
    "rf_ros.fit(X_ros, y_ros)\n",
    "y_pred_rf_ros = rf_ros.predict(X_test)\n",
    "\n",
    "# Print out the metrics for Random Forest Classifier\n",
    "\n",
    "print(\"The F1-score of Random Forest Classifier is: {}\".format(round(f1_score(y_test, y_pred_rf_ros),2)))\n",
    "print(\"The ROC-AUC score of Random Forest Classifier is: {}\".format(round(roc_auc_score(y_test, y_pred_rf_ros),2)))"
   ]
  },
  {
   "cell_type": "markdown",
   "metadata": {
    "papermill": {
     "duration": 0.036738,
     "end_time": "2021-03-08T16:08:12.208776",
     "exception": false,
     "start_time": "2021-03-08T16:08:12.172038",
     "status": "completed"
    },
    "tags": []
   },
   "source": [
    "**Modeling the data using Logistic Regression and under/over-sampling gives the best results for this dataset.** The values of F-1 score and ROC-AUC score from both undersampling and oversampling for Logistic Regression are really close to each other. It is up to the user to look at the benefits and drawbacks of each method and decide which sampling method they want to follow. "
   ]
  },
  {
   "cell_type": "code",
   "execution_count": null,
   "metadata": {},
   "outputs": [],
   "source": []
  }
 ],
 "metadata": {
  "kernelspec": {
   "display_name": "Python 3",
   "language": "python",
   "name": "python3"
  },
  "language_info": {
   "codemirror_mode": {
    "name": "ipython",
    "version": 3
   },
   "file_extension": ".py",
   "mimetype": "text/x-python",
   "name": "python",
   "nbconvert_exporter": "python",
   "pygments_lexer": "ipython3",
   "version": "3.7.4"
  },
  "papermill": {
   "default_parameters": {},
   "duration": 16.04878,
   "end_time": "2021-03-08T16:08:12.956328",
   "environment_variables": {},
   "exception": null,
   "input_path": "__notebook__.ipynb",
   "output_path": "__notebook__.ipynb",
   "parameters": {},
   "start_time": "2021-03-08T16:07:56.907548",
   "version": "2.2.2"
  }
 },
 "nbformat": 4,
 "nbformat_minor": 4
}
